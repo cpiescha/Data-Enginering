{
 "cells": [
  {
   "cell_type": "code",
   "execution_count": null,
   "id": "db2b709b",
   "metadata": {},
   "outputs": [],
   "source": []
  },
  {
   "cell_type": "code",
   "execution_count": 71,
   "id": "550dbf77",
   "metadata": {},
   "outputs": [
    {
     "data": {
      "text/html": [
       "<div>\n",
       "<style scoped>\n",
       "    .dataframe tbody tr th:only-of-type {\n",
       "        vertical-align: middle;\n",
       "    }\n",
       "\n",
       "    .dataframe tbody tr th {\n",
       "        vertical-align: top;\n",
       "    }\n",
       "\n",
       "    .dataframe thead th {\n",
       "        text-align: right;\n",
       "    }\n",
       "</style>\n",
       "<table border=\"1\" class=\"dataframe\">\n",
       "  <thead>\n",
       "    <tr style=\"text-align: right;\">\n",
       "      <th></th>\n",
       "      <th>0</th>\n",
       "    </tr>\n",
       "  </thead>\n",
       "  <tbody>\n",
       "    <tr>\n",
       "      <th>0</th>\n",
       "      <td>1 China 1,439,323,776 0.39 % 5,540,090 153 9,...</td>\n",
       "    </tr>\n",
       "    <tr>\n",
       "      <th>1</th>\n",
       "      <td>2 India 1,380,004,385 0.99 % 13,586,631 464 2...</td>\n",
       "    </tr>\n",
       "    <tr>\n",
       "      <th>2</th>\n",
       "      <td>3 United States 331,002,651 0.59 % 1,937,734 ...</td>\n",
       "    </tr>\n",
       "    <tr>\n",
       "      <th>3</th>\n",
       "      <td>4 Indonesia 273,523,615 1.07 % 2,898,047 151 ...</td>\n",
       "    </tr>\n",
       "    <tr>\n",
       "      <th>4</th>\n",
       "      <td>5 Pakistan 220,892,340 2.00 % 4,327,022 287 7...</td>\n",
       "    </tr>\n",
       "  </tbody>\n",
       "</table>\n",
       "</div>"
      ],
      "text/plain": [
       "                                                   0\n",
       "0   1 China 1,439,323,776 0.39 % 5,540,090 153 9,...\n",
       "1   2 India 1,380,004,385 0.99 % 13,586,631 464 2...\n",
       "2   3 United States 331,002,651 0.59 % 1,937,734 ...\n",
       "3   4 Indonesia 273,523,615 1.07 % 2,898,047 151 ...\n",
       "4   5 Pakistan 220,892,340 2.00 % 4,327,022 287 7..."
      ]
     },
     "execution_count": 71,
     "metadata": {},
     "output_type": "execute_result"
    }
   ],
   "source": [
    "import pandas as pd\n",
    "from bs4 import BeautifulSoup\n",
    "import requests\n",
    "\n",
    "\n",
    "url='https://www.worldometers.info/world-population/population-by-country/'\n",
    "res=requests.get(url)\n",
    "soup=BeautifulSoup(res.text,'html.parser')\n",
    "daticos=[]\n",
    "#df=pd.DataFrame(columns=['country','population','yearly_change','net_change','density','land_area','migrants','fert_rate','med_age','urban_pop','word_share'])\n",
    "data=soup.find('table',attrs={'id':'example2'}).find('tbody').find_all('tr')\n",
    "for dt in data:\n",
    "    daticos.append(dt.get_text())\n",
    "df=pd.DataFrame(daticos)\n",
    "df.head()\n",
    "##df_poblacion=pd.read_html(str(tablita))\n",
    "\n",
    "\n"
   ]
  },
  {
   "cell_type": "code",
   "execution_count": null,
   "id": "2d4756f5",
   "metadata": {},
   "outputs": [],
   "source": []
  },
  {
   "cell_type": "code",
   "execution_count": null,
   "id": "140f4a04",
   "metadata": {},
   "outputs": [],
   "source": []
  },
  {
   "cell_type": "code",
   "execution_count": null,
   "id": "9ecf7db8",
   "metadata": {},
   "outputs": [],
   "source": []
  }
 ],
 "metadata": {
  "kernelspec": {
   "display_name": "Python 3 (ipykernel)",
   "language": "python",
   "name": "python3"
  },
  "language_info": {
   "codemirror_mode": {
    "name": "ipython",
    "version": 3
   },
   "file_extension": ".py",
   "mimetype": "text/x-python",
   "name": "python",
   "nbconvert_exporter": "python",
   "pygments_lexer": "ipython3",
   "version": "3.10.9"
  }
 },
 "nbformat": 4,
 "nbformat_minor": 5
}
