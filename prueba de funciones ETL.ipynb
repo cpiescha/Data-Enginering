{
 "cells": [
  {
   "cell_type": "code",
   "execution_count": 16,
   "id": "32ea62f9",
   "metadata": {},
   "outputs": [
    {
     "name": "stderr",
     "output_type": "stream",
     "text": [
      "C:\\Users\\USUARIO\\AppData\\Local\\Temp\\ipykernel_9680\\98225957.py:24: FutureWarning: The frame.append method is deprecated and will be removed from pandas in a future version. Use pandas.concat instead.\n",
      "  archivo_dataframe = archivo_dataframe.append({\"nombre\":nombre, \"altura\":altura, \"peso\":peso}, ignore_index=True)\n",
      "C:\\Users\\USUARIO\\AppData\\Local\\Temp\\ipykernel_9680\\98225957.py:24: FutureWarning: The frame.append method is deprecated and will be removed from pandas in a future version. Use pandas.concat instead.\n",
      "  archivo_dataframe = archivo_dataframe.append({\"nombre\":nombre, \"altura\":altura, \"peso\":peso}, ignore_index=True)\n",
      "C:\\Users\\USUARIO\\AppData\\Local\\Temp\\ipykernel_9680\\98225957.py:24: FutureWarning: The frame.append method is deprecated and will be removed from pandas in a future version. Use pandas.concat instead.\n",
      "  archivo_dataframe = archivo_dataframe.append({\"nombre\":nombre, \"altura\":altura, \"peso\":peso}, ignore_index=True)\n",
      "C:\\Users\\USUARIO\\AppData\\Local\\Temp\\ipykernel_9680\\98225957.py:24: FutureWarning: The frame.append method is deprecated and will be removed from pandas in a future version. Use pandas.concat instead.\n",
      "  archivo_dataframe = archivo_dataframe.append({\"nombre\":nombre, \"altura\":altura, \"peso\":peso}, ignore_index=True)\n"
     ]
    },
    {
     "data": {
      "text/html": [
       "<div>\n",
       "<style scoped>\n",
       "    .dataframe tbody tr th:only-of-type {\n",
       "        vertical-align: middle;\n",
       "    }\n",
       "\n",
       "    .dataframe tbody tr th {\n",
       "        vertical-align: top;\n",
       "    }\n",
       "\n",
       "    .dataframe thead th {\n",
       "        text-align: right;\n",
       "    }\n",
       "</style>\n",
       "<table border=\"1\" class=\"dataframe\">\n",
       "  <thead>\n",
       "    <tr style=\"text-align: right;\">\n",
       "      <th></th>\n",
       "      <th>nombre</th>\n",
       "      <th>altura</th>\n",
       "      <th>peso</th>\n",
       "    </tr>\n",
       "  </thead>\n",
       "  <tbody>\n",
       "    <tr>\n",
       "      <th>0</th>\n",
       "      <td>simon</td>\n",
       "      <td>67.90</td>\n",
       "      <td>112.37</td>\n",
       "    </tr>\n",
       "    <tr>\n",
       "      <th>1</th>\n",
       "      <td>jacob</td>\n",
       "      <td>66.78</td>\n",
       "      <td>120.67</td>\n",
       "    </tr>\n",
       "    <tr>\n",
       "      <th>2</th>\n",
       "      <td>cindy</td>\n",
       "      <td>66.49</td>\n",
       "      <td>127.45</td>\n",
       "    </tr>\n",
       "    <tr>\n",
       "      <th>3</th>\n",
       "      <td>ivan</td>\n",
       "      <td>67.62</td>\n",
       "      <td>114.14</td>\n",
       "    </tr>\n",
       "  </tbody>\n",
       "</table>\n",
       "</div>"
      ],
      "text/plain": [
       "  nombre  altura    peso\n",
       "0  simon   67.90  112.37\n",
       "1  jacob   66.78  120.67\n",
       "2  cindy   66.49  127.45\n",
       "3   ivan   67.62  114.14"
      ]
     },
     "execution_count": 16,
     "metadata": {},
     "output_type": "execute_result"
    }
   ],
   "source": [
    "import glob\n",
    "import pandas as pd\n",
    "import xml.etree.ElementTree as ET\n",
    "from datetime import datetime\n",
    "\n",
    "#definiendo funciones de extraccion de datos y probandolas\n",
    "\n",
    "def extraer_csv(archivo_csv):\n",
    "    archivo_dataframe=pd.read_csv(archivo_csv)\n",
    "    return archivo_dataframe\n",
    "\n",
    "def extraer_json(archivo_json):\n",
    "    archivo_dataframe=pd.read_json(archivo_json,lines=True)\n",
    "    return archivo_dataframe\n",
    "\n",
    "def extraer_xml(archivo_xml):\n",
    "    archivo_dataframe = pd.DataFrame(columns=[\"nombre\", \"altura\", \"peso\"])\n",
    "    arbol = ET.parse(archivo_xml)\n",
    "    raiz = arbol.getroot()\n",
    "    for person in raiz:\n",
    "        nombre = person.find(\"nombre\").text\n",
    "        altura = float(person.find(\"altura\").text)\n",
    "        peso = float(person.find(\"peso\").text)\n",
    "        archivo_dataframe = archivo_dataframe.append({\"nombre\":nombre, \"altura\":altura, \"peso\":peso}, ignore_index=True)\n",
    "    return archivo_dataframe\n",
    "\n",
    "\n",
    "extraer_xml('source1.xml')\n",
    "\n",
    "\n",
    "\n",
    "\n",
    "\n",
    "\n"
   ]
  },
  {
   "cell_type": "code",
   "execution_count": null,
   "id": "812bfe92",
   "metadata": {},
   "outputs": [],
   "source": []
  },
  {
   "cell_type": "code",
   "execution_count": null,
   "id": "ede66553",
   "metadata": {},
   "outputs": [],
   "source": []
  }
 ],
 "metadata": {
  "kernelspec": {
   "display_name": "Python 3 (ipykernel)",
   "language": "python",
   "name": "python3"
  },
  "language_info": {
   "codemirror_mode": {
    "name": "ipython",
    "version": 3
   },
   "file_extension": ".py",
   "mimetype": "text/x-python",
   "name": "python",
   "nbconvert_exporter": "python",
   "pygments_lexer": "ipython3",
   "version": "3.10.9"
  }
 },
 "nbformat": 4,
 "nbformat_minor": 5
}
