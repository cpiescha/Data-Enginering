{
 "cells": [
  {
   "cell_type": "code",
   "execution_count": 1,
   "id": "bf314fc7",
   "metadata": {},
   "outputs": [
    {
     "name": "stdout",
     "output_type": "stream",
     "text": [
      "hola world\n"
     ]
    }
   ],
   "source": [
    "saludo=\"hola world\"\n",
    "print(saludo)"
   ]
  },
  {
   "cell_type": "code",
   "execution_count": 2,
   "id": "4f9aa360",
   "metadata": {},
   "outputs": [
    {
     "name": "stdout",
     "output_type": "stream",
     "text": [
      "Digite su nombre: camilo\n",
      "hola  camilo\n"
     ]
    }
   ],
   "source": [
    "dato=input(\"Digite su nombre: \")\n",
    "print(\"hola \",dato)"
   ]
  },
  {
   "cell_type": "code",
   "execution_count": 3,
   "id": "668e86fc",
   "metadata": {},
   "outputs": [
    {
     "name": "stdout",
     "output_type": "stream",
     "text": [
      "la solucion es:  0.16000000000000003\n"
     ]
    }
   ],
   "source": [
    "solucion=((2+2)/(2*5))**2\n",
    "print(\"la solucion es: \",solucion)"
   ]
  },
  {
   "cell_type": "code",
   "execution_count": 6,
   "id": "b1ef982a",
   "metadata": {},
   "outputs": [
    {
     "name": "stdout",
     "output_type": "stream",
     "text": [
      "digite el numero de horas trabajadas48\n",
      "digite el coste por hora5000\n",
      "el pago correspondiente es de:  240000.0\n"
     ]
    }
   ],
   "source": [
    "numhoras=float(input(\"digite el numero de horas trabajadas\"))\n",
    "costexhora=float(input(\"digite el coste por hora\"))\n",
    "paga=numhoras*costexhora\n",
    "print(\"el pago correspondiente es de: \",paga)"
   ]
  },
  {
   "cell_type": "code",
   "execution_count": 7,
   "id": "eed2474a",
   "metadata": {},
   "outputs": [
    {
     "name": "stdout",
     "output_type": "stream",
     "text": [
      "escribe tu nombre: camilo\n",
      "escribe el numero de veces que se repita: 4\n",
      "camilo\n",
      "camilo\n",
      "camilo\n",
      "camilo\n"
     ]
    }
   ],
   "source": [
    "#Escribir un programa que pregunte el nombre del usuario en la consola y un número entero e imprima por pantalla en líneas distintas el nombre del usuario tantas veces como el número introducido.\n",
    "\n",
    "nombre=input(\"escribe tu nombre: \")\n",
    "num=int(input(\"escribe el numero de veces que se repita: \"))\n",
    "\n",
    "for i in range(num):\n",
    "    print(nombre)"
   ]
  },
  {
   "cell_type": "code",
   "execution_count": 14,
   "id": "ca31e640",
   "metadata": {},
   "outputs": [
    {
     "name": "stdout",
     "output_type": "stream",
     "text": [
      "digite su edad: 23\n",
      "1\n",
      "2\n",
      "3\n",
      "4\n",
      "5\n",
      "6\n",
      "7\n",
      "8\n",
      "9\n",
      "10\n",
      "11\n",
      "12\n",
      "13\n",
      "14\n",
      "15\n",
      "16\n",
      "17\n",
      "18\n",
      "19\n",
      "20\n",
      "21\n",
      "22\n",
      "23\n"
     ]
    }
   ],
   "source": [
    "edad=int(input(\"digite su edad: \"))\n",
    "\n",
    "for i in range(1,edad+1):\n",
    "    print(i)\n",
    "    "
   ]
  },
  {
   "cell_type": "code",
   "execution_count": 8,
   "id": "e4d2c81d",
   "metadata": {},
   "outputs": [
    {
     "name": "stdout",
     "output_type": "stream",
     "text": [
      "ingrese el tamaño de la lista: 6\n",
      "ingrese un numero para agregar a la lista 22\n",
      "ingrese un numero para agregar a la lista 3\n",
      "ingrese un numero para agregar a la lista 22\n",
      "ingrese un numero para agregar a la lista 11\n",
      "ingrese un numero para agregar a la lista 55\n",
      "ingrese un numero para agregar a la lista 56\n",
      "[22, 3, 22, 11, 55, 56]\n",
      "digite el numero que quiere saber cuantas veces se repite: 22\n",
      "el numero de elementos de la lista es:  6\n",
      "el numero  22 se repite  2 veces\n",
      "22\n"
     ]
    }
   ],
   "source": [
    "lista=[]\n",
    "tamaño=int(input(\"ingrese el tamaño de la lista: \"))\n",
    "for i in range(tamaño):\n",
    "    dato=int(input(\"ingrese un numero para agregar a la lista \"))\n",
    "    lista.append(dato)\n",
    "print(lista)\n",
    "numbuscar=int(input(\"digite el numero que quiere saber cuantas veces se repite: \"))\n",
    "rep=lista.count(numbuscar)\n",
    "print(\"el numero de elementos de la lista es: \",len(lista))\n",
    "print(\"el numero \",numbuscar,\"se repite \",rep, \"veces\")\n",
    "print(lista[2])"
   ]
  },
  {
   "cell_type": "code",
   "execution_count": null,
   "id": "f7a24e93",
   "metadata": {},
   "outputs": [],
   "source": []
  }
 ],
 "metadata": {
  "kernelspec": {
   "display_name": "Python 3 (ipykernel)",
   "language": "python",
   "name": "python3"
  },
  "language_info": {
   "codemirror_mode": {
    "name": "ipython",
    "version": 3
   },
   "file_extension": ".py",
   "mimetype": "text/x-python",
   "name": "python",
   "nbconvert_exporter": "python",
   "pygments_lexer": "ipython3",
   "version": "3.10.9"
  }
 },
 "nbformat": 4,
 "nbformat_minor": 5
}
